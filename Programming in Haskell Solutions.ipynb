{
 "cells": [
  {
   "cell_type": "markdown",
   "metadata": {},
   "source": [
    "# Chapter 5 - List Comprehensions"
   ]
  },
  {
   "cell_type": "markdown",
   "metadata": {},
   "source": [
    "## Exercise 1\n",
    "Using a list comprehension, give an expression that calculates the sum\n",
    "1^2 + 2^2 + . . . 100^2 of the first one hundred integer squares."
   ]
  },
  {
   "cell_type": "code",
   "execution_count": 3,
   "metadata": {},
   "outputs": [
    {
     "data": {
      "text/plain": [
       "338350"
      ]
     },
     "execution_count": 3,
     "metadata": {},
     "output_type": "execute_result"
    }
   ],
   "source": [
    "sum([x**2 for x in range(1,101)])"
   ]
  },
  {
   "cell_type": "markdown",
   "metadata": {},
   "source": [
    "In Haskell code:\n",
    "    \n",
    "sum [x ↑ 2 | x ← [1 . . 100]]"
   ]
  },
  {
   "cell_type": "markdown",
   "metadata": {},
   "source": [
    "## Exercise 2\n",
    "In a similar way to the function length , show how the library function\n",
    "replicate :: Int → a → [ a ] that produces a list of identical elements can\n",
    "be defined using a list comprehension. For example:\n",
    "> replicate 3 True\n",
    "[ True , True , True ]"
   ]
  },
  {
   "cell_type": "code",
   "execution_count": 7,
   "metadata": {},
   "outputs": [
    {
     "data": {
      "text/plain": [
       "[True, True, True]"
      ]
     },
     "execution_count": 7,
     "metadata": {},
     "output_type": "execute_result"
    }
   ],
   "source": [
    "def replicate(n, x):\n",
    "    \"\"\"\"\n",
    "    type n = int\n",
    "    type x = int/str/list/bool\n",
    "    rtype = list\n",
    "    \"\"\"\n",
    "    return[x for i in range(n)]\n",
    "\n",
    "replicate(3,True)"
   ]
  },
  {
   "cell_type": "markdown",
   "metadata": {},
   "source": [
    "In Haskell code:\n",
    "    \n",
    "\n",
    "replicate n x = [x | _ ← [1 . . n ]]"
   ]
  },
  {
   "cell_type": "markdown",
   "metadata": {},
   "source": [
    "## Exercise 3\n",
    "A triple (x, y, z) of positive integers is pythagorean if x 2 + y 2 = z 2 . Using\n",
    "a list comprehension, define a function pyths :: Int → [( Int , Int , Int )] that\n",
    "returns the list of all pythagorean triples whose components are at most a\n",
    "given limit. For example:\n",
    "> pyths 10\n",
    "[(3, 4, 5), (4, 3, 5), (6, 8, 10), (8, 6, 10)]"
   ]
  },
  {
   "cell_type": "code",
   "execution_count": 1,
   "metadata": {},
   "outputs": [
    {
     "data": {
      "text/plain": [
       "[(3, 4, 5), (4, 3, 5), (6, 8, 10), (8, 6, 10)]"
      ]
     },
     "execution_count": 1,
     "metadata": {},
     "output_type": "execute_result"
    }
   ],
   "source": [
    "[(x,y,z) for x in range(1,10) for y in range(1,10) for z in range(1,11) if x**2 + y**2 == z**2]"
   ]
  },
  {
   "cell_type": "code",
   "execution_count": null,
   "metadata": {},
   "outputs": [],
   "source": [
    "In Haskell code:\n",
    "    \n",
    "pyths n = [(x , y, z ) | x ← [1 . . n ],\n",
    "                         y ← [1 . . n ],\n",
    "                         z ← [1 . . n ],\n",
    "                         x ↑ 2 + y ↑ 2 == z ↑ 2]"
   ]
  },
  {
   "cell_type": "markdown",
   "metadata": {},
   "source": [
    "## Exercise 4\n",
    "A positive integer is perfect if it equals the sum of its factors, excluding the\n",
    "number itself. Using a list comprehension and the function factors , define a\n",
    "function perfects :: Int → [ Int ] that returns the list of all perfect numbers\n",
    "up to a given limit. For example:\n",
    "> perfects 500\n",
    "[6, 28, 496]"
   ]
  },
  {
   "cell_type": "code",
   "execution_count": 12,
   "metadata": {},
   "outputs": [
    {
     "data": {
      "text/plain": [
       "[6, 28, 496]"
      ]
     },
     "execution_count": 12,
     "metadata": {},
     "output_type": "execute_result"
    }
   ],
   "source": [
    "def factors(x):\n",
    "    \"\"\"\n",
    "    type x: int\n",
    "    retype: list\n",
    "    \"\"\"\n",
    "    return [i for i in range(1,x+1) if x % i == 0]\n",
    "\n",
    "\n",
    "def perfects(n):\n",
    "    \"\"\"\n",
    "    type n: int\n",
    "    rtype: list\n",
    "    \"\"\"\n",
    "    return [x for x in range(2,n) if sum(factors(x)[:-1]) == x]\n",
    "\n",
    "perfects(500)"
   ]
  },
  {
   "cell_type": "markdown",
   "metadata": {},
   "source": [
    "In Haskell code:\n",
    "    \n",
    "perfects n = [x | x ← [1 . . n ], sum (init (factors x )) == x ]"
   ]
  },
  {
   "cell_type": "markdown",
   "metadata": {},
   "source": [
    "## Exercise 5\n",
    "Show how the single comprehension [( x , y ) | x ← [1, 2, 3], y ←\n",
    "[4, 5, 6]] with two generators can be re-expressed using two comprehensions with single generators. Hint: make use of the library function concat\n",
    "and nest one comprehension within the other."
   ]
  },
  {
   "cell_type": "code",
   "execution_count": null,
   "metadata": {},
   "outputs": [],
   "source": [
    "# Don't know how to implement in Python and I don't understand the solution in Haskell\n",
    "# Haskell code:\n",
    "\n",
    "concat [[(x , y) | y ← [4, 5, 6]] | x ← [1, 2, 3]]"
   ]
  },
  {
   "cell_type": "markdown",
   "metadata": {},
   "source": [
    "## Exercise 6\n",
    "Redefine the function positions using the function find."
   ]
  },
  {
   "cell_type": "code",
   "execution_count": 14,
   "metadata": {},
   "outputs": [
    {
     "data": {
      "text/plain": [
       "[2, 4]"
      ]
     },
     "execution_count": 14,
     "metadata": {},
     "output_type": "execute_result"
    }
   ],
   "source": [
    "def find(k, t):\n",
    "    \"\"\"\n",
    "    type k = int/str/Bool/float\n",
    "    type t = list [(a,b)]\n",
    "    rtype = list [b]\n",
    "    \"\"\"\n",
    "    return [v for (k_prime,v) in t if k == k_prime]\n",
    "\n",
    "find('b', [('a', 1), ('b', 2), ('c', 3), ('b', 4)])"
   ]
  },
  {
   "cell_type": "code",
   "execution_count": 16,
   "metadata": {},
   "outputs": [],
   "source": [
    "def positions(x,xs):\n",
    "    \"\"\"\n",
    "    type x = int/str/Bool/float\n",
    "    type xs = list\n",
    "    \"\"\"\n",
    "    n = len(xs)\n",
    "    return find(x,zip(xs, range(0,n)))"
   ]
  },
  {
   "cell_type": "code",
   "execution_count": 17,
   "metadata": {},
   "outputs": [
    {
     "data": {
      "text/plain": [
       "[1, 3, 4]"
      ]
     },
     "execution_count": 17,
     "metadata": {},
     "output_type": "execute_result"
    }
   ],
   "source": [
    "positions('b', ['a','b', 'c', 'b','b'])"
   ]
  },
  {
   "cell_type": "markdown",
   "metadata": {},
   "source": [
    "In Haskell code:\n",
    "\n",
    "positions x xs = find x (zip xs [0 . . n ])\n",
    "                 where n = length xs − 1"
   ]
  },
  {
   "cell_type": "markdown",
   "metadata": {},
   "source": [
    "## Exercise 7\n",
    "The scalar product of two lists of integers xs and ys of length n is given by\n",
    "the sum of the products of corresponding integers:\n",
    "\n",
    "sum(xs(i) ∗ ys(i))\n",
    "\n",
    "In a similar manner to the function chisqr , show how a list comprehension\n",
    "can be used to define a function scalarproduct :: [ Int ] → [ Int ] → Int that\n",
    "returns the scalar product of two lists. For example:\n",
    "> scalarproduct [1, 2, 3] [4, 5, 6]\n",
    "32"
   ]
  },
  {
   "cell_type": "code",
   "execution_count": 18,
   "metadata": {},
   "outputs": [],
   "source": [
    "def scalarproduct(xs, ys):\n",
    "    \n",
    "    \"\"\"\n",
    "    type os, es = list of ints\n",
    "    rtypes = float\n",
    "    \"\"\"\n",
    "    \n",
    "    return sum([(i[0] * i[1]) for i in list(zip(xs, ys))])"
   ]
  },
  {
   "cell_type": "code",
   "execution_count": 19,
   "metadata": {},
   "outputs": [
    {
     "data": {
      "text/plain": [
       "32"
      ]
     },
     "execution_count": 19,
     "metadata": {},
     "output_type": "execute_result"
    }
   ],
   "source": [
    "scalarproduct([1, 2, 3], [4, 5, 6])"
   ]
  },
  {
   "cell_type": "markdown",
   "metadata": {},
   "source": [
    "In Haskell code:\n",
    "\n",
    "scalarproduct xs ys = sum [x ∗ y | (x , y) ← zip xs ys ]"
   ]
  },
  {
   "cell_type": "markdown",
   "metadata": {},
   "source": [
    "## Exercise 8\n",
    "\n",
    "Modify the Caesar cipher program to also handle upper-case letters."
   ]
  },
  {
   "cell_type": "code",
   "execution_count": 3,
   "metadata": {},
   "outputs": [],
   "source": [
    "def low2int(c):\n",
    "    \n",
    "    \"\"\"\n",
    "    type c = str\n",
    "    rtype = int\n",
    "    \"\"\"\n",
    "    \n",
    "    return ord(c) - ord('a') if ord(c) >= 97 else ord(c) - ord('A')\n",
    "\n",
    "def upp2int(c):\n",
    "    \n",
    "    \"\"\"\n",
    "    type c = str\n",
    "    rtype = int\n",
    "    \"\"\"\n",
    "    \n",
    "    return ord(c) - ord('A')\n",
    "    \n",
    "def int2low(n):\n",
    "    \n",
    "    \"\"\"\n",
    "    type n = int\n",
    "    rtype = str\n",
    "    \"\"\"\n",
    "    \n",
    "    return chr(ord('a') + n)\n",
    "\n",
    "def int2upp(n):\n",
    "    \n",
    "    \"\"\"\n",
    "    type n = int\n",
    "    rtype = str\n",
    "    \"\"\"\n",
    "    \n",
    "    return chr(ord('A') + n)\n",
    "    \n",
    "def shift(n, c):\n",
    "    \n",
    "    \"\"\"\n",
    "    type n = int\n",
    "    type c = str\n",
    "    rtype = str\n",
    "    \"\"\"\n",
    "    # Haven't foud a way to include multiple if statements in return statement in Python yet.\n",
    "    # Therefore, currently a collection of conditions with seperate returns\n",
    "    \n",
    "    if c.islower():\n",
    "        return int2low((low2int(c) + n) % 26)    \n",
    "    \n",
    "    elif c.isupper():\n",
    "        return int2upp((upp2int(c) + n) % 26)\n",
    "        \n",
    "    else:\n",
    "        return c\n",
    "    \n",
    "def encode(n, string):\n",
    "    \n",
    "    \"\"\"\n",
    "    type n = int\n",
    "    type string = str\n",
    "    rtype = str\n",
    "    \"\"\"\n",
    "    \n",
    "    return ''.join([shift(n, c) for c in string])\n",
    " \n",
    "def table():\n",
    "\n",
    "    \"\"\"\n",
    "    rtype = list\n",
    "    \"\"\"\n",
    "    \n",
    "    # This table specifies the relative frequencies of letters in the Engelish language\n",
    "    \n",
    "    return [8.2, 1.5, 2.8, 4.3, 12.7, 2.2, 2.0, 6.1, 7.0, 0.2, 0.8, 4.0, 2.4,\n",
    "            6.7, 7.5, 1.9, 0.1, 6.0, 6.3, 9.1, 2.8, 1.0, 2.4, 0.2, 2.0, 0.1]\n",
    "\n",
    "def percent(n, m):\n",
    "    \n",
    "    \"\"\"\n",
    "    type n = int\n",
    "    type m = int\n",
    "    rtype = float\n",
    "    \"\"\"\n",
    "    \n",
    "    return (float(n) / float(m))*100\n",
    "\n",
    "def freqs(string_1):\n",
    "    \n",
    "    \"\"\"\n",
    "    type string_1 = str\n",
    "    rtype = list\n",
    "    \"\"\"\n",
    "    \n",
    "    return [percent(string_1.lower().count(x),len([c for c in string_1 if c.isalpha()]))\n",
    "            for x in [chr(x) for x in range(ord('a'), ord('a')+26)]]\n",
    "    \n",
    "    \n",
    "def chisqr(os, es):\n",
    "    \n",
    "    \"\"\"\n",
    "    type os, es = list of ints\n",
    "    rtypes = float\n",
    "    \"\"\"\n",
    "    \n",
    "    return sum([((i[0] - i[1]) ** 2 )/ i[1] for i in list(zip(os, es))])\n",
    "\n",
    "def rotate(n, xs):\n",
    "    \n",
    "    \"\"\"\n",
    "    type n = int\n",
    "    type xs = list\n",
    "    rtype = list\n",
    "    \"\"\"\n",
    "    \n",
    "    return xs[n:] + xs[:n]\n",
    "\n",
    "def crack(xs):\n",
    "    \n",
    "    \"\"\"\n",
    "    type xs = string\n",
    "    rtype = string\n",
    "    \"\"\"\n",
    "    \n",
    "    table_prime = freqs(xs)\n",
    "    chitab = [chisqr(rotate(n, table_prime), table()) for n in range(0,26)]\n",
    "    factor = chitab.index(min(chitab))\n",
    "    \n",
    "    return encode(-factor, xs)"
   ]
  },
  {
   "cell_type": "code",
   "execution_count": 7,
   "metadata": {},
   "outputs": [
    {
     "data": {
      "text/plain": [
       "'Haskell is Fun'"
      ]
     },
     "execution_count": 7,
     "metadata": {},
     "output_type": "execute_result"
    }
   ],
   "source": [
    "crack('Kdvnhoo lv Ixq')"
   ]
  },
  {
   "cell_type": "code",
   "execution_count": 5,
   "metadata": {},
   "outputs": [
    {
     "data": {
      "text/plain": [
       "'Kdvnhoo lv Ixq'"
      ]
     },
     "execution_count": 5,
     "metadata": {},
     "output_type": "execute_result"
    }
   ],
   "source": [
    "encode(3, \"Haskell is Fun\")\n"
   ]
  },
  {
   "cell_type": "markdown",
   "metadata": {},
   "source": [
    "# Chapter 6 Recursive Functions"
   ]
  },
  {
   "cell_type": "markdown",
   "metadata": {},
   "source": [
    "## Exercise 1"
   ]
  },
  {
   "cell_type": "markdown",
   "metadata": {},
   "source": []
  }
 ],
 "metadata": {
  "kernelspec": {
   "display_name": "Python 3",
   "language": "python",
   "name": "python3"
  },
  "language_info": {
   "codemirror_mode": {
    "name": "ipython",
    "version": 3
   },
   "file_extension": ".py",
   "mimetype": "text/x-python",
   "name": "python",
   "nbconvert_exporter": "python",
   "pygments_lexer": "ipython3",
   "version": "3.7.1"
  }
 },
 "nbformat": 4,
 "nbformat_minor": 2
}
